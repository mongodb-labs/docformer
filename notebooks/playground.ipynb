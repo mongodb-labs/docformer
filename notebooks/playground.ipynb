{
 "cells": [
  {
   "cell_type": "code",
   "execution_count": null,
   "metadata": {},
   "outputs": [],
   "source": [
    "import outlines\n",
    "import os\n",
    "\n",
    "model = outlines.models.openai(\"gpt-4o-mini\", api_key=os.environ[\"OPENAI_API_KEY\"])\n",
    "generator = outlines.generate.choice(model, [\"Yellow\", \"Blue\", \"Green\", \"Red\"])\n",
    "\n",
    "color = generator(\"What is the closest color to Indigo? \")\n",
    "print(color)"
   ]
  }
 ],
 "metadata": {
  "kernelspec": {
   "display_name": ".venv",
   "language": "python",
   "name": "python3"
  },
  "language_info": {
   "codemirror_mode": {
    "name": "ipython",
    "version": 3
   },
   "file_extension": ".py",
   "mimetype": "text/x-python",
   "name": "python",
   "nbconvert_exporter": "python",
   "pygments_lexer": "ipython3",
   "version": "3.10.14"
  }
 },
 "nbformat": 4,
 "nbformat_minor": 2
}
