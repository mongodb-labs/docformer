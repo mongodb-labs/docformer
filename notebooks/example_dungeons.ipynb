{
 "cells": [
  {
   "cell_type": "markdown",
   "metadata": {},
   "source": [
    "## Train STORM model on Dungeons dataset\n"
   ]
  },
  {
   "cell_type": "code",
   "execution_count": 1,
   "metadata": {},
   "outputs": [
    {
     "name": "stderr",
     "output_type": "stream",
     "text": [
      "/Users/thomas/code/storm/.venv/lib/python3.11/site-packages/tqdm/auto.py:21: TqdmWarning: IProgress not found. Please update jupyter and ipywidgets. See https://ipywidgets.readthedocs.io/en/stable/user_install.html\n",
      "  from .autonotebook import tqdm as notebook_tqdm\n"
     ]
    },
    {
     "name": "stdout",
     "output_type": "stream",
     "text": [
      "{\n",
      "  \"door\": 6,\n",
      "  \"key_color\": \"blue\",\n",
      "  \"corridor\": [\n",
      "    {\n",
      "      \"monsters\": [\n",
      "        \"orc\"\n",
      "      ],\n",
      "      \"door_no\": 0,\n",
      "      \"red_key\": \"gold\",\n",
      "      \"blue_key\": \"spellbooks\",\n",
      "      \"green_key\": \"gemstones\"\n",
      "    },\n",
      "    {\n",
      "      \"monsters\": [\n",
      "        \"wolf\",\n",
      "        \"goblin\"\n",
      "      ],\n",
      "      \"door_no\": 1,\n",
      "      \"red_key\": \"artifacts\",\n",
      "      \"blue_key\": \"gold\",\n",
      "      \"green_key\": \"gemstones\"\n",
      "    },\n",
      "    {\n",
      "      \"monsters\": [\n",
      "        \"dragon\",\n",
      "        \"wolf\"\n",
      "      ],\n",
      "      \"door_no\": 2,\n",
      "      \"red_key\": \"gold\",\n",
      "      \"blue_key\": \"spellbooks\",\n",
      "      \"green_key\": \"spellbooks\"\n",
      "    },\n",
      "    {\n",
      "      \"monsters\": [\n",
      "        \"wolf\"\n",
      "      ],\n",
      "      \"door_no\": 3,\n",
      "      \"red_key\": \"artifacts\",\n",
      "      \"blue_key\": \"spellbooks\",\n",
      "      \"green_key\": \"gemstones\"\n",
      "    },\n",
      "    {\n",
      "      \"monsters\": [\n",
      "        \"wolf\",\n",
      "        \"dragon\"\n",
      "      ],\n",
      "      \"door_no\": 4,\n",
      "      \"red_key\": \"gold\",\n",
      "      \"blue_key\": \"gold\",\n",
      "      \"green_key\": \"spellbooks\"\n",
      "    },\n",
      "    {\n",
      "      \"monsters\": [\n",
      "        \"orc\"\n",
      "      ],\n",
      "      \"door_no\": 5,\n",
      "      \"red_key\": \"diamonds\",\n",
      "      \"blue_key\": \"gold\",\n",
      "      \"green_key\": \"gold\"\n",
      "    },\n",
      "    {\n",
      "      \"door_no\": 6,\n",
      "      \"red_key\": \"gold\",\n",
      "      \"blue_key\": \"diamonds\",\n",
      "      \"green_key\": \"gemstones\"\n",
      "    }\n",
      "  ],\n",
      "  \"treasure\": \"diamonds\"\n",
      "}\n",
      "len train: 8000, len test: 2000\n",
      "vocab size 53\n",
      "block size 149\n"
     ]
    }
   ],
   "source": [
    "import json\n",
    "\n",
    "from sklearn.model_selection import train_test_split\n",
    "from sklearn.pipeline import Pipeline\n",
    "\n",
    "from storm_ml.datasets.dungeons import generate_data\n",
    "from storm_ml.preprocessing import (\n",
    "    DocTokenizerPipe,\n",
    "    PadTruncTokensPipe,\n",
    "    SchemaParserPipe,\n",
    "    TargetFieldPipe,\n",
    "    TokenEncoderPipe,\n",
    "    docs_to_df,\n",
    ")\n",
    "\n",
    "# generate Dungeons dataset (see storm_ml/datasets/dungeons.py)\n",
    "data = generate_data(\n",
    "    num_instances=10_000,\n",
    "    num_doors_range=(5, 10),\n",
    "    num_colors=3,\n",
    "    with_monsters=True,\n",
    "    num_treasures=5,\n",
    ")\n",
    "\n",
    "# print example dictionary\n",
    "print(json.dumps(data[0], indent=2))\n",
    "\n",
    "# load data into dataframe and split into train/test\n",
    "df = docs_to_df(data)\n",
    "train_docs_df, test_docs_df = train_test_split(df, test_size=0.2, shuffle=True)\n",
    "\n",
    "TARGET_FIELD = \"treasure\"\n",
    "\n",
    "# create train and test pipelines\n",
    "pipes = {\n",
    "    \"schema\": SchemaParserPipe(),\n",
    "    \"target\": TargetFieldPipe(TARGET_FIELD),\n",
    "    \"tokenizer\": DocTokenizerPipe(path_in_field_tokens=True),\n",
    "    \"padding\": PadTruncTokensPipe(length=\"max\"),\n",
    "    \"encoder\": TokenEncoderPipe(),\n",
    "}\n",
    "\n",
    "pipeline = Pipeline([(name, pipes[name]) for name in (\"schema\", \"target\", \"tokenizer\", \"padding\", \"encoder\")])\n",
    "\n",
    "# process train, eval and test data\n",
    "train_df = pipeline.fit_transform(train_docs_df)\n",
    "test_df = pipeline.transform(test_docs_df)\n",
    "\n",
    "# get stateful objects\n",
    "schema = pipes[\"schema\"].schema\n",
    "encoder = pipes[\"encoder\"].encoder\n",
    "block_size = pipes[\"padding\"].length\n",
    "\n",
    "# print data stats\n",
    "print(f\"len train: {len(train_df)}, len test: {len(test_df)}\")\n",
    "print(f\"vocab size {encoder.vocab_size}\")\n",
    "print(f\"block size {block_size}\")"
   ]
  },
  {
   "cell_type": "code",
   "execution_count": 2,
   "metadata": {},
   "outputs": [
    {
     "name": "stdout",
     "output_type": "stream",
     "text": [
      "running on device mps\n",
      "number of parameters: 0.81M\n"
     ]
    }
   ],
   "source": [
    "# create datasets, VPDA and model\n",
    "\n",
    "from storm_ml.model import STORM\n",
    "from storm_ml.model.vpda import DocumentVPDA\n",
    "from storm_ml.preprocessing import DFDataset\n",
    "from storm_ml.utils import ModelConfig, TrainConfig\n",
    "\n",
    "# model and train configs\n",
    "model_config = ModelConfig.from_preset(\"gpt-micro\")\n",
    "model_config.position_encoding = \"NONE\"\n",
    "model_config.vocab_size = encoder.vocab_size\n",
    "model_config.block_size = block_size\n",
    "\n",
    "train_config = TrainConfig()\n",
    "train_config.learning_rate = 1e-3\n",
    "train_config.n_warmup_batches = 1000\n",
    "\n",
    "# datasets\n",
    "train_dataset = DFDataset(train_df)\n",
    "test_dataset = DFDataset(test_df)\n",
    "\n",
    "vpda = DocumentVPDA(encoder, schema)\n",
    "model = STORM(model_config, train_config, vpda=vpda)\n"
   ]
  },
  {
   "cell_type": "code",
   "execution_count": 5,
   "metadata": {},
   "outputs": [
    {
     "name": "stdout",
     "output_type": "stream",
     "text": [
      "|  step: 0  |  epoch: 0  |  batch_num: 0  |  batch_dt: 0.00  |  batch_loss: 2.6870  |  test_loss: 2.6861  |  test_acc: 0.0100  |  lr: 1.01e-06  |\n",
      "|  step: 1  |  epoch: 1  |  batch_num: 100  |  batch_dt: 117.36  |  batch_loss: 1.1175  |  test_loss: 1.0856  |  test_acc: 0.2200  |  lr: 1.01e-04  |\n",
      "|  step: 2  |  epoch: 2  |  batch_num: 200  |  batch_dt: 127.52  |  batch_loss: 0.7380  |  test_loss: 0.7195  |  test_acc: 0.2300  |  lr: 2.01e-04  |\n",
      "|  step: 3  |  epoch: 3  |  batch_num: 300  |  batch_dt: 117.65  |  batch_loss: 0.6389  |  test_loss: 0.6310  |  test_acc: 0.2100  |  lr: 3.01e-04  |\n",
      "|  step: 4  |  epoch: 5  |  batch_num: 400  |  batch_dt: 125.67  |  batch_loss: 0.6241  |  test_loss: 0.6196  |  test_acc: 0.1600  |  lr: 4.01e-04  |\n",
      "|  step: 5  |  epoch: 6  |  batch_num: 500  |  batch_dt: 129.38  |  batch_loss: 0.6190  |  test_loss: 0.6278  |  test_acc: 0.1700  |  lr: 5.01e-04  |\n",
      "|  step: 6  |  epoch: 7  |  batch_num: 600  |  batch_dt: 115.34  |  batch_loss: 0.6187  |  test_loss: 0.6183  |  test_acc: 0.2400  |  lr: 6.01e-04  |\n",
      "|  step: 7  |  epoch: 8  |  batch_num: 700  |  batch_dt: 120.03  |  batch_loss: 0.6179  |  test_loss: 0.6176  |  test_acc: 0.2400  |  lr: 7.01e-04  |\n",
      "|  step: 8  |  epoch: 10  |  batch_num: 800  |  batch_dt: 113.73  |  batch_loss: 0.6172  |  test_loss: 0.6167  |  test_acc: 0.2300  |  lr: 8.01e-04  |\n",
      "|  step: 9  |  epoch: 11  |  batch_num: 900  |  batch_dt: 118.65  |  batch_loss: 0.6195  |  test_loss: 0.6184  |  test_acc: 0.2300  |  lr: 9.01e-04  |\n"
     ]
    },
    {
     "name": "stderr",
     "output_type": "stream",
     "text": [
      "/Users/thomas/code/storm/.venv/lib/python3.11/site-packages/torch/optim/lr_scheduler.py:232: UserWarning: The epoch parameter in `scheduler.step()` was not necessary and is being deprecated where possible. Please use `scheduler.step()` to step the scheduler. During the deprecation, if epoch is different from None, the closed form is used instead of the new chainable form, where available. Please open an issue if you are unable to replicate your use case: https://github.com/pytorch/pytorch/issues/new/choose.\n",
      "  warnings.warn(EPOCH_DEPRECATION_WARNING, UserWarning)\n"
     ]
    },
    {
     "name": "stdout",
     "output_type": "stream",
     "text": [
      "|  step: 10  |  epoch: 12  |  batch_num: 1000  |  batch_dt: 116.64  |  batch_loss: 0.6187  |  test_loss: 0.6174  |  test_acc: 0.2000  |  lr: 1.00e-03  |\n",
      "|  step: 11  |  epoch: 13  |  batch_num: 1100  |  batch_dt: 113.82  |  batch_loss: 0.6156  |  test_loss: 0.6200  |  test_acc: 0.1400  |  lr: 9.83e-04  |\n",
      "|  step: 12  |  epoch: 15  |  batch_num: 1200  |  batch_dt: 113.16  |  batch_loss: 0.6169  |  test_loss: 0.6177  |  test_acc: 0.1900  |  lr: 9.67e-04  |\n",
      "|  step: 13  |  epoch: 16  |  batch_num: 1300  |  batch_dt: 114.57  |  batch_loss: 0.6173  |  test_loss: 0.6169  |  test_acc: 0.2000  |  lr: 9.50e-04  |\n",
      "|  step: 14  |  epoch: 17  |  batch_num: 1400  |  batch_dt: 115.36  |  batch_loss: 0.6185  |  test_loss: 0.6162  |  test_acc: 0.2400  |  lr: 9.34e-04  |\n",
      "|  step: 15  |  epoch: 18  |  batch_num: 1500  |  batch_dt: 116.96  |  batch_loss: 0.6171  |  test_loss: 0.6151  |  test_acc: 0.1800  |  lr: 9.17e-04  |\n",
      "|  step: 16  |  epoch: 20  |  batch_num: 1600  |  batch_dt: 117.20  |  batch_loss: 0.6145  |  test_loss: 0.6184  |  test_acc: 0.2700  |  lr: 9.01e-04  |\n",
      "|  step: 17  |  epoch: 21  |  batch_num: 1700  |  batch_dt: 117.42  |  batch_loss: 0.6155  |  test_loss: 0.6160  |  test_acc: 0.2500  |  lr: 8.84e-04  |\n",
      "|  step: 18  |  epoch: 22  |  batch_num: 1800  |  batch_dt: 113.24  |  batch_loss: 0.6147  |  test_loss: 0.6156  |  test_acc: 0.1900  |  lr: 8.68e-04  |\n",
      "|  step: 19  |  epoch: 23  |  batch_num: 1900  |  batch_dt: 115.85  |  batch_loss: 0.6147  |  test_loss: 0.6164  |  test_acc: 0.2600  |  lr: 8.51e-04  |\n",
      "|  step: 20  |  epoch: 25  |  batch_num: 2000  |  batch_dt: 118.75  |  batch_loss: 0.6129  |  test_loss: 0.6136  |  test_acc: 0.4600  |  lr: 8.35e-04  |\n",
      "|  step: 21  |  epoch: 26  |  batch_num: 2100  |  batch_dt: 115.11  |  batch_loss: 0.6088  |  test_loss: 0.6063  |  test_acc: 0.9000  |  lr: 8.18e-04  |\n",
      "|  step: 22  |  epoch: 27  |  batch_num: 2200  |  batch_dt: 119.41  |  batch_loss: 0.5996  |  test_loss: 0.6025  |  test_acc: 0.9900  |  lr: 8.02e-04  |\n",
      "model training interrupted after 28 epochs (2300 batches total).\n"
     ]
    }
   ],
   "source": [
    "from storm_ml.inference import Predictor\n",
    "from storm_ml.utils.guild import print_guild_scalars\n",
    "\n",
    "# create a predictor\n",
    "predictor = Predictor(model, encoder, TARGET_FIELD)\n",
    "\n",
    "\n",
    "# model callback during training, prints training and test metrics\n",
    "def progress_callback(model):\n",
    "    if model.batch_num % train_config.eval_every == 0:\n",
    "        print_guild_scalars(\n",
    "            step=f\"{int(model.batch_num / train_config.eval_every)}\",\n",
    "            epoch=model.epoch_num,\n",
    "            batch_num=model.batch_num,\n",
    "            batch_dt=f\"{model.batch_dt*1000:.2f}\",\n",
    "            batch_loss=f\"{model.loss:.4f}\",\n",
    "            test_loss=f\"{predictor.ce_loss(test_dataset.sample(n=100)):.4f}\",\n",
    "            test_acc=f\"{predictor.accuracy(test_dataset.sample(n=100)):.4f}\",\n",
    "            lr=f\"{model.learning_rate:.2e}\",\n",
    "        )\n",
    "\n",
    "\n",
    "model.set_callback(\"on_batch_end\", progress_callback)\n",
    "model.train_model(train_dataset, batches=5000)\n"
   ]
  },
  {
   "cell_type": "code",
   "execution_count": 8,
   "metadata": {},
   "outputs": [
    {
     "name": "stderr",
     "output_type": "stream",
     "text": [
      "Predicting: 100%|██████████| 84/84 [00:08<00:00,  9.72it/s]\n"
     ]
    },
    {
     "name": "stdout",
     "output_type": "stream",
     "text": [
      "Test accuracy: 0.9750\n",
      "Model predictions:  ['gemstones', 'artifacts', 'gold', 'artifacts', 'diamonds', 'artifacts', 'gemstones', 'spellbooks', 'spellbooks', 'gold']\n",
      "Correct labels:  ['gemstones' 'artifacts' 'gold' 'artifacts' 'diamonds' 'artifacts'\n",
      " 'gemstones' 'spellbooks' 'spellbooks' 'gold']\n"
     ]
    }
   ],
   "source": [
    "acc = predictor.accuracy(test_dataset, show_progress=True)\n",
    "print(f\"Test accuracy: {acc:.4f}\")\n",
    "\n",
    "# we can also access the predictions with the `predict()` method\n",
    "predictions = predictor.predict(test_dataset)\n",
    "print(\"Model predictions: \", predictions[:10])\n",
    "print(\"Correct labels: \", test_dataset.df[\"target\"].to_list()[:10])"
   ]
  }
 ],
 "metadata": {
  "kernelspec": {
   "display_name": ".venv",
   "language": "python",
   "name": "python3"
  },
  "language_info": {
   "codemirror_mode": {
    "name": "ipython",
    "version": 3
   },
   "file_extension": ".py",
   "mimetype": "text/x-python",
   "name": "python",
   "nbconvert_exporter": "python",
   "pygments_lexer": "ipython3",
   "version": "3.11.9"
  }
 },
 "nbformat": 4,
 "nbformat_minor": 2
}
