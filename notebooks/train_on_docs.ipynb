{
 "cells": [
  {
   "cell_type": "markdown",
   "metadata": {},
   "source": [
    "## Train GPT Model on JSON data\n"
   ]
  },
  {
   "cell_type": "code",
   "execution_count": 1,
   "metadata": {},
   "outputs": [
    {
     "name": "stdout",
     "output_type": "stream",
     "text": [
      "Using device: cpu\n"
     ]
    }
   ],
   "source": [
    "# Imports and Setup\n",
    "import matplotlib.pyplot as plt\n",
    "import torch\n",
    "from IPython.display import clear_output\n",
    "from transformers import (\n",
    "    AutoConfig,\n",
    "    DataCollatorForLanguageModeling,\n",
    "    GPT2LMHeadModel,\n",
    "    LlamaConfig,\n",
    "    LlamaForCausalLM,\n",
    "    Trainer,\n",
    "    TrainingArguments,\n",
    ")\n",
    "\n",
    "from storm_ml.models import STORM_GPT2HeadModel as STORMHeadModel\n",
    "\n",
    "# Check if MPS is available\n",
    "device = torch.device(\"cpu\" if torch.backends.mps.is_available() else \"cpu\")\n",
    "print(f\"Using device: {device}\")"
   ]
  },
  {
   "cell_type": "code",
   "execution_count": 2,
   "metadata": {},
   "outputs": [
    {
     "name": "stdout",
     "output_type": "stream",
     "text": [
      "len train: 80000, len test: 20000\n",
      "vocab size 42\n",
      "block size 111\n"
     ]
    }
   ],
   "source": [
    "from sklearn.model_selection import train_test_split\n",
    "from sklearn.pipeline import Pipeline\n",
    "\n",
    "from storm_ml.data import (\n",
    "    DocPermuterPipe,\n",
    "    DocTokenizerPipe,\n",
    "    PadTruncTokensPipe,\n",
    "    SchemaParserPipe,\n",
    "    TargetFieldPipe,\n",
    "    TokenEncoderPipe,\n",
    "    UpscalerPipe,\n",
    "    load_df_from_mongodb,\n",
    ")\n",
    "\n",
    "# load data into dataframe and split into train/test\n",
    "# df = load_df_from_mongodb(\"mongodb://localhost:27017\", \"codenet\", \"train\", projection={\"_id\": 0, \"filePath\": 0})\n",
    "df = load_df_from_mongodb(\"mongodb://localhost:27017\", \"treasurehunt\", \"dungeon_5_10_3\", projection={\"_id\": 0})\n",
    "# df = load_df_from_mongodb(\"mongodb://localhost:27017\", \"mutagenesis\", \"mutagenesis\", projection={\"_id\": 0})\n",
    "# df = load_df_from_mongodb(\"mongodb://localhost:27017\", \"openml\", \"4534-PhishingWebsites\", projection={\"_id\": 0})\n",
    "\n",
    "train_docs_df, test_docs_df = train_test_split(df, test_size=0.2, shuffle=True)\n",
    "\n",
    "TARGET_FIELD = \"treasure\"\n",
    "\n",
    "# create train and test pipelines\n",
    "pipes = {\n",
    "    # --- train only ---\n",
    "    \"schema\": SchemaParserPipe(),\n",
    "    \"upscaler\": UpscalerPipe(n=4),\n",
    "    \"permuter\": DocPermuterPipe(),\n",
    "    # --- test only ---\n",
    "    \"target\": TargetFieldPipe(TARGET_FIELD),\n",
    "    # --- train and test ---\n",
    "    \"tokenizer\": DocTokenizerPipe(path_in_field_tokens=True),\n",
    "    \"padding\": PadTruncTokensPipe(length=\"max\"),\n",
    "    \"encoder\": TokenEncoderPipe(),\n",
    "}\n",
    "\n",
    "train_pipeline = Pipeline([(name, pipes[name]) for name in (\"schema\", \"target\", \"tokenizer\", \"padding\", \"encoder\")])\n",
    "test_pipeline = Pipeline([(name, pipes[name]) for name in (\"schema\", \"target\", \"tokenizer\", \"padding\", \"encoder\")])\n",
    "\n",
    "# process train, eval and test data\n",
    "train_df = train_pipeline.fit_transform(train_docs_df)\n",
    "test_df = test_pipeline.transform(test_docs_df)\n",
    "\n",
    "# allow transitions in vpda to work for test data\n",
    "# pipes[\"schema\"].fit(test_docs_df)\n",
    "\n",
    "# get stateful objects\n",
    "schema = pipes[\"schema\"].schema\n",
    "encoder = pipes[\"encoder\"].encoder\n",
    "block_size = pipes[\"padding\"].length\n",
    "\n",
    "# print data stats\n",
    "print(f\"len train: {len(train_df)}, len test: {len(test_df)}\")\n",
    "print(f\"vocab size {encoder.vocab_size}\")\n",
    "print(f\"block size {block_size}\")"
   ]
  },
  {
   "cell_type": "code",
   "execution_count": null,
   "metadata": {},
   "outputs": [],
   "source": [
    "import numpy as np\n",
    "\n",
    "from storm_ml.vpda import DocumentVPDA\n",
    "\n",
    "vpda = DocumentVPDA(encoder)\n",
    "\n",
    "arr = np.array(train_df[\"tokens\"][:20].to_list())\n",
    "vpda.accepts(arr)\n"
   ]
  },
  {
   "cell_type": "code",
   "execution_count": 3,
   "metadata": {},
   "outputs": [
    {
     "name": "stdout",
     "output_type": "stream",
     "text": [
      "LlamaConfig {\n",
      "  \"attention_bias\": false,\n",
      "  \"attention_dropout\": 0.0,\n",
      "  \"bos_token_id\": 1,\n",
      "  \"eos_token_id\": 2,\n",
      "  \"head_dim\": 32,\n",
      "  \"hidden_act\": \"silu\",\n",
      "  \"hidden_size\": 128,\n",
      "  \"initializer_range\": 0.02,\n",
      "  \"intermediate_size\": 11008,\n",
      "  \"max_position_embeddings\": 2048,\n",
      "  \"mlp_bias\": false,\n",
      "  \"model_type\": \"llama\",\n",
      "  \"num_attention_heads\": 4,\n",
      "  \"num_hidden_layers\": 4,\n",
      "  \"num_key_value_heads\": 4,\n",
      "  \"pad_token_id\": 0,\n",
      "  \"pretraining_tp\": 1,\n",
      "  \"rms_norm_eps\": 1e-06,\n",
      "  \"rope_scaling\": null,\n",
      "  \"rope_theta\": 10000.0,\n",
      "  \"tie_word_embeddings\": false,\n",
      "  \"transformers_version\": \"4.45.2\",\n",
      "  \"use_cache\": true,\n",
      "  \"vocab_size\": 42\n",
      "}\n",
      "\n"
     ]
    },
    {
     "data": {
      "text/plain": [
       "Embedding(42, 128, padding_idx=0)"
      ]
     },
     "execution_count": 3,
     "metadata": {},
     "output_type": "execute_result"
    }
   ],
   "source": [
    "from datasets import Dataset\n",
    "\n",
    "from storm_ml.utils import Symbol\n",
    "\n",
    "# Create custom config\n",
    "config = LlamaConfig(\n",
    "    vocab_size=encoder.vocab_size,\n",
    "    bos_token_id=encoder.encode(Symbol.START),\n",
    "    eos_token_id=encoder.encode(Symbol.END),\n",
    "    pad_token_id=encoder.encode(Symbol.PAD),\n",
    "    hidden_size=128,\n",
    "    num_hidden_layers=4,\n",
    "    num_attention_heads=4,\n",
    "    tie_word_embeddings=False,\n",
    ")\n",
    "\n",
    "\n",
    "print(config)\n",
    "\n",
    "# model = STORMHeadModel(config, vpda).to(device)\n",
    "# model = GPT2LMHeadModel(config).to(device)\n",
    "model = LlamaForCausalLM(config).to(device)\n",
    "\n",
    "model.resize_token_embeddings(encoder.vocab_size)"
   ]
  },
  {
   "cell_type": "code",
   "execution_count": 4,
   "metadata": {},
   "outputs": [
    {
     "data": {
      "text/plain": [
       "Dataset({\n",
       "    features: ['docs', 'id', 'target', 'tokens', 'input_ids', '__index_level_0__'],\n",
       "    num_rows: 80000\n",
       "})"
      ]
     },
     "execution_count": 4,
     "metadata": {},
     "output_type": "execute_result"
    }
   ],
   "source": [
    "# prepare HuggingFace Dataset\n",
    "train_df[\"input_ids\"] = train_df[\"tokens\"]\n",
    "test_df[\"input_ids\"] = test_df[\"tokens\"]\n",
    "\n",
    "# train_df.drop(columns=[\"tokens\", \"docs\", \"id\"], inplace=True)\n",
    "# test_df.drop(columns=[\"tokens\", \"docs\", \"id\"], inplace=True)\n",
    "\n",
    "# create HuggingFace datasets from Pandas DataFrames\n",
    "train_tokenized = Dataset.from_pandas(train_df)\n",
    "test_tokenized = Dataset.from_pandas(test_df)\n",
    "\n",
    "# # set format to Torch\n",
    "train_tokenized.set_format(\"torch\", columns=[\"input_ids\"])\n",
    "test_tokenized.set_format(\"torch\", columns=[\"input_ids\"])\n",
    "\n",
    "\n",
    "train_tokenized\n"
   ]
  },
  {
   "cell_type": "code",
   "execution_count": 5,
   "metadata": {},
   "outputs": [],
   "source": [
    "from transformers import AutoTokenizer\n",
    "\n",
    "dummy_tokenizer = AutoTokenizer.from_pretrained(\"gpt2\")\n",
    "dummy_tokenizer._pad_token = \"<PAD>\"\n",
    "dummy_tokenizer.pad_token_id = encoder.encode(Symbol.PAD)\n",
    "dummy_tokenizer.padding_side = \"right\"\n"
   ]
  },
  {
   "cell_type": "code",
   "execution_count": 6,
   "metadata": {},
   "outputs": [],
   "source": [
    "from transformers import TrainerCallback\n",
    "\n",
    "\n",
    "# Custom Callback for plotting\n",
    "class PlotLossCallback(TrainerCallback):\n",
    "    def __init__(self, plot_every=100):\n",
    "        self.plot_every = plot_every\n",
    "        self.train_losses = []\n",
    "        self.eval_losses = []\n",
    "        self.step_count = 0\n",
    "\n",
    "    def on_step_end(self, args, state, control, **kwargs):\n",
    "        self.step_count += 1\n",
    "\n",
    "    def on_log(self, args, state, control, logs=None, **kwargs):\n",
    "        if state.is_local_process_zero and \"loss\" in logs:\n",
    "            self.train_losses.append((self.step_count, logs[\"loss\"]))\n",
    "            self.plot_losses()\n",
    "            print(logs)\n",
    "\n",
    "    def on_evaluate(self, args, state, control, metrics, **kwargs):\n",
    "        self.eval_losses.append((self.step_count, metrics.get(\"eval_loss\", None)))\n",
    "        self.plot_losses()\n",
    "        print(metrics)\n",
    "\n",
    "    def plot_losses(self):\n",
    "        clear_output(wait=True)\n",
    "        plt.figure(figsize=(12, 8))\n",
    "\n",
    "        # Plot train loss\n",
    "        train_steps, train_losses = zip(*self.train_losses)\n",
    "        plt.plot(train_steps, train_losses, label=\"Train Loss\", color=\"blue\", marker=\"o\")\n",
    "\n",
    "        # Plot eval loss\n",
    "        if len(self.eval_losses) > 0:\n",
    "            eval_steps, eval_losses = zip(*self.eval_losses)\n",
    "            plt.plot(eval_steps, eval_losses, label=\"Eval Loss\", color=\"red\", marker=\"o\")\n",
    "\n",
    "        plt.xlabel(\"Steps\")\n",
    "        plt.ylabel(\"Loss\")\n",
    "        plt.title(\"Training Progress\")\n",
    "        plt.legend(loc=\"upper left\")\n",
    "\n",
    "        plt.show()\n",
    "        plt.savefig(\"training_progress.png\")\n",
    "\n",
    "\n",
    "loss_callback = PlotLossCallback()"
   ]
  },
  {
   "cell_type": "code",
   "execution_count": 7,
   "metadata": {},
   "outputs": [],
   "source": [
    "# Set up training arguments\n",
    "training_args = TrainingArguments(\n",
    "    do_train=True,\n",
    "    do_eval=True,\n",
    "    output_dir=\"./checkpoints\",\n",
    "    num_train_epochs=10,\n",
    "    per_device_train_batch_size=100,\n",
    "    per_device_eval_batch_size=100,\n",
    "    warmup_steps=1000,\n",
    "    warmup_ratio=0.01,\n",
    "    weight_decay=0.01,\n",
    "    learning_rate=1e-3,\n",
    "    logging_dir=\"./logs\",\n",
    "    logging_steps=100,\n",
    "    eval_strategy=\"steps\",\n",
    "    eval_steps=1000,\n",
    "    save_strategy=\"no\",\n",
    "    report_to=\"none\",  # Disable wandb logging\n",
    ")\n",
    "\n",
    "data_collator = DataCollatorForLanguageModeling(tokenizer=dummy_tokenizer, mlm=False)\n",
    "\n",
    "trainer = Trainer(\n",
    "    model=model,\n",
    "    args=training_args,\n",
    "    train_dataset=train_tokenized,\n",
    "    eval_dataset=test_tokenized,\n",
    "    data_collator=data_collator,\n",
    "    callbacks=[loss_callback],\n",
    ")\n"
   ]
  },
  {
   "cell_type": "code",
   "execution_count": 8,
   "metadata": {},
   "outputs": [
    {
     "data": {
      "text/plain": [
       "torch.Size([80000, 111])"
      ]
     },
     "execution_count": 8,
     "metadata": {},
     "output_type": "execute_result"
    }
   ],
   "source": [
    "train_tokenized[\"input_ids\"].shape"
   ]
  },
  {
   "cell_type": "code",
   "execution_count": null,
   "metadata": {},
   "outputs": [
    {
     "data": {
      "text/plain": [
       "<Figure size 640x480 with 0 Axes>"
      ]
     },
     "metadata": {},
     "output_type": "display_data"
    },
    {
     "data": {
      "image/png": "[encoded data removed]",
      "text/plain": [
       "<Figure size 1200x800 with 1 Axes>"
      ]
     },
     "metadata": {},
     "output_type": "display_data"
    },
    {
     "name": "stdout",
     "output_type": "stream",
     "text": [
      "{'loss': 0.2518, 'grad_norm': 0.11310183256864548, 'learning_rate': 5.333333333333334e-05, 'epoch': 19.0}\n",
      "{'loss': 0.2518, 'grad_norm': 0.11310183256864548, 'learning_rate': 5.333333333333334e-05, 'epoch': 19.0}\n"
     ]
    }
   ],
   "source": [
    "# train model\n",
    "trainer.train()\n",
    "loss_callback.plot_losses()"
   ]
  },
  {
   "cell_type": "code",
   "execution_count": 10,
   "metadata": {},
   "outputs": [],
   "source": [
    "# # Save the model\n",
    "# model.save_pretrained(\"./checkpoints/checkpoint-final\")\n",
    "# print(\"Model saved!\")"
   ]
  },
  {
   "cell_type": "code",
   "execution_count": null,
   "metadata": {},
   "outputs": [],
   "source": [
    "from pprint import pprint\n",
    "\n",
    "import seaborn as sns\n",
    "\n",
    "from storm_ml.data.utils import detokenize\n",
    "\n",
    "\n",
    "def get_attention_weights(model, input_ids):\n",
    "    # Get model outputs\n",
    "    with torch.no_grad():\n",
    "        outputs = model(input_ids, output_attentions=True)\n",
    "\n",
    "    # Extract attention weights\n",
    "    # Assuming single layer, single head for simplicity\n",
    "    attention_weights = outputs.attentions[0][0]  # shape: [seq_len, seq_len]\n",
    "    return attention_weights[0].cpu()\n",
    "\n",
    "\n",
    "def plot_attention_heatmap(attention_weights, tokens):\n",
    "    plt.figure(figsize=(10, 8), dpi=300)\n",
    "    sns.heatmap(attention_weights, xticklabels=tokens, yticklabels=tokens, cmap=\"YlOrRd\")\n",
    "    plt.title(\"Attention Heatmap\")\n",
    "    plt.xlabel(\"Attended Tokens\")\n",
    "    plt.ylabel(\"Attending Tokens\")\n",
    "    plt.tick_params(axis=\"both\", which=\"major\", labelsize=6)\n",
    "    plt.tight_layout()\n",
    "    plt.show()\n",
    "\n",
    "\n",
    "input_ids = test_tokenized[\"input_ids\"][0]\n",
    "\n",
    "print(input_ids)\n",
    "pprint(detokenize(encoder.decode(input_ids)))\n",
    "\n",
    "# reshape input_ids as 2d tensor\n",
    "input_ids = input_ids.unsqueeze(0).to(device)\n",
    "attention_weights = get_attention_weights(model, input_ids)\n",
    "\n",
    "plot_attention_heatmap(attention_weights, encoder.decode(input_ids[0]))\n"
   ]
  },
  {
   "cell_type": "markdown",
   "metadata": {},
   "source": [
    "## Evaluation\n"
   ]
  },
  {
   "cell_type": "code",
   "execution_count": null,
   "metadata": {},
   "outputs": [],
   "source": [
    "import numpy as np\n",
    "import torch\n",
    "from transformers import Trainer, TrainingArguments\n",
    "\n",
    "# Set up evaluation arguments\n",
    "eval_args = TrainingArguments(\n",
    "    output_dir=\"./checkpoints\", do_train=False, do_eval=True, per_device_eval_batch_size=100, dataloader_drop_last=False\n",
    ")\n",
    "\n",
    "# Create a Trainer instance for evaluation\n",
    "eval_trainer = Trainer(model=model, args=eval_args, eval_dataset=test_tokenized, data_collator=data_collator)\n",
    "\n",
    "# Run evaluation\n",
    "eval_results = eval_trainer.evaluate()\n",
    "\n",
    "# Print evaluation results\n",
    "print(\"Evaluation Results:\")\n",
    "for key, value in eval_results.items():\n",
    "    print(f\"{key}: {value}\")\n",
    "\n",
    "# Calculate perplexity\n",
    "perplexity = np.exp(eval_results[\"eval_loss\"])\n",
    "print(f\"Perplexity: {perplexity}\")\n",
    "\n",
    "# Generate some text as a sanity check\n",
    "device = torch.device(\"mps\" if torch.backends.mps.is_available() else \"cpu\")\n",
    "model.to(device)\n",
    "_ = model.eval()\n"
   ]
  },
  {
   "cell_type": "code",
   "execution_count": 13,
   "metadata": {},
   "outputs": [],
   "source": [
    "# single predictions - slow\n",
    "\n",
    "\n",
    "# import torch\n",
    "# from tqdm.auto import tqdm\n",
    "\n",
    "# from storm_ml.utils import FieldToken\n",
    "\n",
    "\n",
    "# def truncate(tensor, truncate_id):\n",
    "#     index = (tensor == truncate_id).nonzero()\n",
    "#     if index.numel() > 0:\n",
    "#         return tensor[: index[-1] + 1]\n",
    "#     return tensor\n",
    "\n",
    "\n",
    "# def predict_label(input_ids: torch.Tensor, model):\n",
    "#     target_token_id = encoder.encode(FieldToken(TARGET_FIELD))\n",
    "#     trunc_ids = truncate(input_ids, target_token_id).view(1, -1).to(model.device)\n",
    "\n",
    "#     # Assuming trunc_ids is your truncated tensor of input IDs\n",
    "#     attention_mask = torch.ones_like(trunc_ids).to(model.device)\n",
    "\n",
    "#     with torch.no_grad():\n",
    "#         # forward pass to get logits, use argmax for next tokens\n",
    "#         output = model(trunc_ids, attention_mask=attention_mask, labels=trunc_ids)\n",
    "\n",
    "#     # get predictions\n",
    "#     predictions = output.logits.argmax(dim=-1)\n",
    "#     pred = encoder.decode(predictions[0])\n",
    "\n",
    "#     # output = model.generate(trunc_ids, attention_mask=attention_mask, max_new_tokens=1, do_sample=False)\n",
    "#     # pred = encoder.decode(output[0, -1])\n",
    "\n",
    "#     return pred\n",
    "\n",
    "\n",
    "# predictions = [predict_label(doc, model) for doc in tqdm(test_tokenized[\"input_ids\"])]\n"
   ]
  },
  {
   "cell_type": "code",
   "execution_count": null,
   "metadata": {},
   "outputs": [],
   "source": [
    "import multiprocessing\n",
    "\n",
    "import torch\n",
    "from datasets import Dataset\n",
    "from torch.utils.data import DataLoader\n",
    "from tqdm.auto import tqdm\n",
    "\n",
    "from storm_ml.utils import FieldToken\n",
    "\n",
    "\n",
    "def truncate(tensor, truncate_id):\n",
    "    index = (tensor == truncate_id).nonzero()\n",
    "    if index.numel() > 0:\n",
    "        return tensor[: index[-1] + 1]\n",
    "    return tensor\n",
    "\n",
    "\n",
    "def truncate_dataset(dataset, truncate_func, num_proc=None):\n",
    "    def truncate_example(example):\n",
    "        example[\"input_ids\"] = truncate_func(example[\"input_ids\"])\n",
    "        return example\n",
    "\n",
    "    # If num_proc is not specified, use the number of CPU cores\n",
    "    if num_proc is None:\n",
    "        num_proc = multiprocessing.cpu_count()\n",
    "\n",
    "    return dataset.map(truncate_example, num_proc=num_proc)\n",
    "\n",
    "\n",
    "def collate_fn(batch):\n",
    "    # Extract input_ids from the batch\n",
    "    input_ids = [item[\"input_ids\"].clone().detach() for item in batch]\n",
    "\n",
    "    # Find max length in the batch\n",
    "    max_len = max(len(seq) for seq in input_ids)\n",
    "\n",
    "    # pad token\n",
    "    pad_token_id = model.config.pad_token_id\n",
    "\n",
    "    # Pad sequences and create attention masks\n",
    "    padded_sequences = []\n",
    "    attention_masks = []\n",
    "    for seq in input_ids:\n",
    "        padding_length = max_len - len(seq)\n",
    "        # left pad sequences\n",
    "        padded_seq = torch.cat([torch.full((padding_length,), pad_token_id), seq])\n",
    "        attention_mask = torch.cat(\n",
    "            [\n",
    "                torch.zeros(padding_length),\n",
    "                torch.ones(len(seq)),\n",
    "            ]\n",
    "        )\n",
    "        padded_sequences.append(padded_seq)\n",
    "        attention_masks.append(attention_mask)\n",
    "\n",
    "    # Stack tensors\n",
    "    padded_sequences = torch.stack(padded_sequences)\n",
    "    attention_masks = torch.stack(attention_masks)\n",
    "\n",
    "    return {\"input_ids\": padded_sequences, \"attention_mask\": attention_masks}\n",
    "\n",
    "\n",
    "def batch_next_token_prediction(model, dataset, batch_size=100, device=\"mps\"):\n",
    "    model.eval()\n",
    "    all_predictions = []\n",
    "\n",
    "    # Create a new dataset with truncated sequences\n",
    "    target_token_id = encoder.encode(FieldToken(TARGET_FIELD))\n",
    "    truncated_dataset = truncate_dataset(dataset, lambda s: truncate(s, target_token_id))\n",
    "\n",
    "    # Create a DataLoader with custom collate_fn\n",
    "    dataloader = DataLoader(truncated_dataset, batch_size=batch_size, shuffle=False, collate_fn=collate_fn)\n",
    "\n",
    "    for batch in tqdm(\n",
    "        dataloader,\n",
    "        desc=\"Predict\",\n",
    "    ):\n",
    "        input_ids = batch[\"input_ids\"].to(device)\n",
    "        attention_mask = batch[\"attention_mask\"].to(device)\n",
    "\n",
    "        # Replace pad token (0) with the model's pad_token_id\n",
    "        input_ids = torch.where(input_ids == 0, model.config.pad_token_id, input_ids)\n",
    "\n",
    "        # Get model predictions\n",
    "        with torch.no_grad():\n",
    "            outputs = model(input_ids, attention_mask=attention_mask)\n",
    "            next_token_logits = outputs.logits[:, -1, :]\n",
    "            next_token_ids = torch.argmax(next_token_logits, dim=-1)\n",
    "\n",
    "        all_predictions.extend(next_token_ids.cpu().numpy())\n",
    "\n",
    "    # decode predictions\n",
    "    all_predictions = encoder.decode(all_predictions)\n",
    "    return all_predictions\n",
    "\n",
    "\n",
    "predictions = batch_next_token_prediction(model, test_tokenized)"
   ]
  },
  {
   "cell_type": "code",
   "execution_count": null,
   "metadata": {},
   "outputs": [],
   "source": [
    "print(predictions[:20])\n",
    "print(test_tokenized[\"target\"][:20])\n"
   ]
  },
  {
   "cell_type": "code",
   "execution_count": null,
   "metadata": {},
   "outputs": [],
   "source": [
    "import evaluate\n",
    "\n",
    "# Load metric\n",
    "accuracy_metric = evaluate.load(\"accuracy\")\n",
    "\n",
    "predictions_int = [encoder.encode(pred) for pred in predictions]\n",
    "references_int = [encoder.encode(ref) for ref in test_tokenized[\"target\"]]\n",
    "\n",
    "# Compute metrics\n",
    "results = accuracy_metric.compute(predictions=predictions_int, references=references_int)\n",
    "\n",
    "print(\"results: \", results)"
   ]
  }
 ],
 "metadata": {
  "kernelspec": {
   "display_name": ".venv",
   "language": "python",
   "name": "python3"
  },
  "language_info": {
   "codemirror_mode": {
    "name": "ipython",
    "version": 3
   },
   "file_extension": ".py",
   "mimetype": "text/x-python",
   "name": "python",
   "nbconvert_exporter": "python",
   "pygments_lexer": "ipython3",
   "version": "3.11.9"
  }
 },
 "nbformat": 4,
 "nbformat_minor": 2
}
