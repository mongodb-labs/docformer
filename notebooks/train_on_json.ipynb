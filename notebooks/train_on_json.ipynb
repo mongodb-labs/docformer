{
 "cells": [
  {
   "cell_type": "markdown",
   "metadata": {},
   "source": [
    "## Train GPT Model on JSON data\n"
   ]
  },
  {
   "cell_type": "code",
   "execution_count": 1,
   "metadata": {},
   "outputs": [
    {
     "name": "stdout",
     "output_type": "stream",
     "text": [
      "Using device: mps\n"
     ]
    }
   ],
   "source": [
    "# Imports and Setup\n",
    "import gc\n",
    "\n",
    "import matplotlib.pyplot as plt\n",
    "import psutil\n",
    "import torch\n",
    "from IPython.display import clear_output\n",
    "from transformers import (\n",
    "    AutoConfig,\n",
    "    AutoTokenizer,\n",
    "    DataCollatorForLanguageModeling,\n",
    "    GPT2LMHeadModel,\n",
    "    Trainer,\n",
    "    TrainingArguments,\n",
    ")\n",
    "\n",
    "# Check if MPS is available\n",
    "device = torch.device(\"mps\" if torch.backends.mps.is_available() else \"cpu\")\n",
    "print(f\"Using device: {device}\")"
   ]
  },
  {
   "cell_type": "code",
   "execution_count": 2,
   "metadata": {},
   "outputs": [
    {
     "name": "stdout",
     "output_type": "stream",
     "text": [
      "Full dataset size: 48842 samples\n",
      "Train dataset size: 39073 samples\n",
      "Test dataset size: 9769 samples\n"
     ]
    }
   ],
   "source": [
    "from storm_ml.json import load_from_mongodb\n",
    "\n",
    "train_dataset, test_dataset = load_from_mongodb(\n",
    "    \"mongodb://localhost:27017/\",\n",
    "    db_name=\"openml\",\n",
    "    coll_name=\"1590-adult\",\n",
    "    target_field=\"target\",\n",
    "    test_size=0.2,\n",
    "    verbose=True,\n",
    ")"
   ]
  },
  {
   "cell_type": "code",
   "execution_count": 3,
   "metadata": {},
   "outputs": [
    {
     "data": {
      "application/vnd.jupyter.widget-view+json": {
       "model_id": "d9db109fe96c4ffea34937a06271f34b",
       "version_major": 2,
       "version_minor": 0
      },
      "text/plain": [
       "Tokenizing dataset:   0%|          | 0/39073 [00:00<?, ? examples/s]"
      ]
     },
     "metadata": {},
     "output_type": "display_data"
    },
    {
     "data": {
      "application/vnd.jupyter.widget-view+json": {
       "model_id": "c26751962c9f479985bab3d31953fad7",
       "version_major": 2,
       "version_minor": 0
      },
      "text/plain": [
       "Tokenizing dataset:   0%|          | 0/9769 [00:00<?, ? examples/s]"
      ]
     },
     "metadata": {},
     "output_type": "display_data"
    },
    {
     "data": {
      "text/plain": [
       "Embedding(50257, 128)"
      ]
     },
     "execution_count": 3,
     "metadata": {},
     "output_type": "execute_result"
    }
   ],
   "source": [
    "from storm_ml.json import tokenize\n",
    "\n",
    "# Load and prepare tokenizer\n",
    "tokenizer = AutoTokenizer.from_pretrained(\"gpt2\")\n",
    "tokenizer.pad_token = tokenizer.eos_token\n",
    "tokenizer.padding_side = \"right\"\n",
    "\n",
    "# tokenize datasets\n",
    "train_tokenized = tokenize(tokenizer, train_dataset)\n",
    "test_tokenized = tokenize(tokenizer, test_dataset)\n",
    "\n",
    "\n",
    "# Create custom config\n",
    "config = AutoConfig.from_pretrained(\n",
    "    \"gpt2\",\n",
    "    vocab_size=len(tokenizer),\n",
    "    n_ctx=128,\n",
    "    bos_token_id=tokenizer.bos_token_id,\n",
    "    eos_token_id=tokenizer.eos_token_id,\n",
    "    pad_token_id=tokenizer.pad_token_id,\n",
    "    hidden_size=128,\n",
    "    num_attention_heads=4,\n",
    "    num_hidden_layers=4,\n",
    ")\n",
    "\n",
    "model = GPT2LMHeadModel(config).to(device)\n",
    "model.resize_token_embeddings(len(tokenizer))"
   ]
  },
  {
   "cell_type": "code",
   "execution_count": 4,
   "metadata": {},
   "outputs": [
    {
     "name": "stdout",
     "output_type": "stream",
     "text": [
      "[4895, 496, 1298, 2534, 11, 366, 1818, 4871, 1298, 366, 24704, 12, 45787, 12, 1662, 12, 1939, 1600, 366, 69, 21283, 86, 13655, 1298, 45881, 3901, 13, 15, 11, 366, 40796, 1298, 366, 4366, 12, 44107, 1600, 366, 40796, 12, 22510, 1298, 838, 11, 366, 3876, 1287, 12, 13376, 1298, 366, 12295, 12, 30526, 1600, 366, 19596, 341, 1298, 366, 44490, 1600, 366, 39468, 1056, 1298, 366, 23858, 12, 9410, 1600, 366, 16740, 1298, 366, 12256, 1600, 366, 8044, 1298, 366, 25486, 1600, 366, 27544, 12, 48544, 1298, 657, 13, 15, 11, 366, 27544, 12, 22462, 1298, 657, 13, 15, 11, 366, 24425, 12, 525, 12, 10464, 1298, 1160, 11, 366, 30191, 12, 19315, 1298, 366, 17013, 12, 42237, 1600, 366, 16793, 1298, 33490, 28, 1120, 42, 20662]\n",
      "{\"age\": 22, \"workclass\": \"Self-emp-not-inc\", \"fnlwgt\": 47541.0, \"education\": \"Some-college\", \"education-num\": 10, \"marital-status\": \"Never-married\", \"occupation\": \"Sales\", \"relationship\": \"Own-child\", \"race\": \"White\", \"sex\": \"Male\", \"capital-gain\": 0.0, \"capital-loss\": 0.0, \"hours-per-week\": 20, \"native-country\": \"United-States\", \"target\": \"<=50K\"}\n"
     ]
    }
   ],
   "source": [
    "first = train_tokenized[\"input_ids\"][0]\n",
    "print(first)\n",
    "print(tokenizer.decode(first))"
   ]
  },
  {
   "cell_type": "code",
   "execution_count": 5,
   "metadata": {},
   "outputs": [],
   "source": [
    "from transformers import TrainerCallback\n",
    "\n",
    "\n",
    "class LossCallback(TrainerCallback):\n",
    "    def __init__(self):\n",
    "        self.training_loss = []\n",
    "        self.step = []\n",
    "\n",
    "    def on_log(self, args, state, control, logs=None, **kwargs):\n",
    "        if state.is_local_process_zero and \"loss\" in logs:\n",
    "            self.training_loss.append(logs[\"loss\"])\n",
    "            self.step.append(state.global_step)\n",
    "            self.plot_loss()\n",
    "\n",
    "    def plot_loss(self):\n",
    "        clear_output(wait=True)\n",
    "        plt.figure(figsize=(12, 6))\n",
    "        plt.plot(self.step, self.training_loss)\n",
    "        plt.title(\"Training Loss Curve\")\n",
    "        plt.xlabel(\"Step\")\n",
    "        plt.ylabel(\"Loss\")\n",
    "        plt.show()\n",
    "\n",
    "    # Implement other required methods as no-ops\n",
    "    def on_init_end(self, args, state, control, **kwargs):\n",
    "        pass\n",
    "\n",
    "    def on_train_begin(self, args, state, control, **kwargs):\n",
    "        pass\n",
    "\n",
    "    def on_train_end(self, args, state, control, **kwargs):\n",
    "        pass\n",
    "\n",
    "\n",
    "loss_callback = LossCallback()"
   ]
  },
  {
   "cell_type": "code",
   "execution_count": 6,
   "metadata": {},
   "outputs": [],
   "source": [
    "# Set up training arguments\n",
    "training_args = TrainingArguments(\n",
    "    output_dir=\"./checkpoints\",\n",
    "    num_train_epochs=5,\n",
    "    per_device_train_batch_size=16,\n",
    "    warmup_steps=500,\n",
    "    weight_decay=0.01,\n",
    "    logging_dir=\"./logs\",\n",
    "    logging_steps=10,\n",
    "    report_to=\"none\",  # Disable wandb logging\n",
    ")\n",
    "\n",
    "data_collator = DataCollatorForLanguageModeling(tokenizer=tokenizer, mlm=False)\n",
    "\n",
    "trainer = Trainer(\n",
    "    model=model,\n",
    "    args=training_args,\n",
    "    train_dataset=train_tokenized,\n",
    "    eval_dataset=test_tokenized,\n",
    "    data_collator=data_collator,\n",
    "    callbacks=[loss_callback],\n",
    ")\n"
   ]
  },
  {
   "cell_type": "code",
   "execution_count": 7,
   "metadata": {},
   "outputs": [
    {
     "data": {
      "image/png": "[encoded data removed]",
      "text/plain": [
       "<Figure size 1200x600 with 1 Axes>"
      ]
     },
     "metadata": {},
     "output_type": "display_data"
    },
    {
     "name": "stdout",
     "output_type": "stream",
     "text": [
      "{'loss': 8.151, 'grad_norm': 2.814948797225952, 'learning_rate': 3.3e-05, 'epoch': 0.14}\n"
     ]
    }
   ],
   "source": [
    "# Train model\n",
    "print(\"Starting training...\")\n",
    "trainer.train()\n",
    "print(\"Training completed!\")\n",
    "loss_callback.plot_loss()\n"
   ]
  },
  {
   "cell_type": "code",
   "execution_count": null,
   "metadata": {},
   "outputs": [],
   "source": [
    "# Save the model\n",
    "model.save_pretrained(\"./checkpoints/checkpoint-final\")\n",
    "tokenizer.save_pretrained(\"./checkpoints/checkpoint-final\")\n",
    "print(\"Model saved!\")\n"
   ]
  },
  {
   "cell_type": "code",
   "execution_count": null,
   "metadata": {},
   "outputs": [],
   "source": [
    "# Memory cleanup\n",
    "del model, trainer, tokenizer, train_tokenized, test_tokenized, dataset, train_dataset, test_dataset, dataset_split\n",
    "gc.collect()\n",
    "print(f\"Current memory usage: {psutil.virtual_memory().percent}%\")"
   ]
  },
  {
   "cell_type": "markdown",
   "metadata": {},
   "source": [
    "## Evaluation\n"
   ]
  },
  {
   "cell_type": "code",
   "execution_count": null,
   "metadata": {},
   "outputs": [],
   "source": [
    "model = GPT2LMHeadModel.from_pretrained(\"./checkpoints/checkpoint-final\")\n",
    "tokenizer = AutoTokenizer.from_pretrained(\"./checkpoints/checkpoint-final\")"
   ]
  },
  {
   "cell_type": "code",
   "execution_count": null,
   "metadata": {},
   "outputs": [],
   "source": [
    "from transformers import Trainer, TrainingArguments\n",
    "import numpy as np\n",
    "import torch\n",
    "\n",
    "# Set up evaluation arguments\n",
    "eval_args = TrainingArguments(do_train=False, do_eval=True, per_device_eval_batch_size=32, dataloader_drop_last=False)\n",
    "\n",
    "# Create a Trainer instance for evaluation\n",
    "eval_trainer = Trainer(model=model, args=eval_args, eval_dataset=test_tokenized, data_collator=data_collator)\n",
    "\n",
    "# Run evaluation\n",
    "eval_results = eval_trainer.evaluate()\n",
    "\n",
    "# Print evaluation results\n",
    "print(\"Evaluation Results:\")\n",
    "for key, value in eval_results.items():\n",
    "    print(f\"{key}: {value}\")\n",
    "\n",
    "# Calculate perplexity\n",
    "perplexity = np.exp(eval_results[\"eval_loss\"])\n",
    "print(f\"Perplexity: {perplexity}\")\n",
    "\n",
    "# Generate some text as a sanity check\n",
    "device = torch.device(\"mps\" if torch.backends.mps.is_available() else \"cpu\")\n",
    "model.to(device)\n",
    "_ = model.eval()\n"
   ]
  },
  {
   "cell_type": "code",
   "execution_count": null,
   "metadata": {},
   "outputs": [],
   "source": [
    "from storm_ml.eval_batch import evaluate_gpt2_classification\n",
    "\n",
    "model_path = \"./checkpoints/checkpoint-final\"\n",
    "results = evaluate_gpt2_classification(model_path, test_dataset)\n",
    "print(f\"Classification Accuracy: {results['accuracy']:.2f}\")"
   ]
  }
 ],
 "metadata": {
  "kernelspec": {
   "display_name": ".venv",
   "language": "python",
   "name": "python3"
  },
  "language_info": {
   "codemirror_mode": {
    "name": "ipython",
    "version": 3
   },
   "file_extension": ".py",
   "mimetype": "text/x-python",
   "name": "python",
   "nbconvert_exporter": "python",
   "pygments_lexer": "ipython3",
   "version": "3.10.14"
  }
 },
 "nbformat": 4,
 "nbformat_minor": 2
}
